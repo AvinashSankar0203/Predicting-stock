{
 "cells": [
  {
   "cell_type": "code",
   "execution_count": 1,
   "id": "dc576517",
   "metadata": {},
   "outputs": [],
   "source": [
    "import numpy as np\n",
    "import pandas as pd\n",
    "import matplotlib.pyplot as plt \n",
    "from sklearn.linear_model import LinearRegression\n",
    "import yfinance as yf\n",
    "from sklearn.model_selection import TimeSeriesSplit\n",
    "from sklearn.preprocessing import StandardScaler, PolynomialFeatures\n",
    "from sklearn.metrics import r2_score, mean_absolute_error, mean_squared_error\n",
    "from sklearn.pipeline import Pipeline"
   ]
  },
  {
   "cell_type": "code",
   "execution_count": 2,
   "id": "800b6757",
   "metadata": {},
   "outputs": [
    {
     "name": "stderr",
     "output_type": "stream",
     "text": [
      "[*********************100%***********************]  1 of 1 completed\n"
     ]
    }
   ],
   "source": [
    "ticker=\"TSLA\"\n",
    "data =yf.download(ticker, start=\"2023-01-01\", end=\"2024-02-02\",auto_adjust=False)\n",
    "data=data.rename(columns=str.title)"
   ]
  },
  {
   "cell_type": "code",
   "execution_count": 3,
   "id": "1e93f93d",
   "metadata": {},
   "outputs": [
    {
     "data": {
      "text/html": [
       "<div>\n",
       "<style scoped>\n",
       "    .dataframe tbody tr th:only-of-type {\n",
       "        vertical-align: middle;\n",
       "    }\n",
       "\n",
       "    .dataframe tbody tr th {\n",
       "        vertical-align: top;\n",
       "    }\n",
       "\n",
       "    .dataframe thead tr th {\n",
       "        text-align: left;\n",
       "    }\n",
       "\n",
       "    .dataframe thead tr:last-of-type th {\n",
       "        text-align: right;\n",
       "    }\n",
       "</style>\n",
       "<table border=\"1\" class=\"dataframe\">\n",
       "  <thead>\n",
       "    <tr>\n",
       "      <th>Price</th>\n",
       "      <th>Adj Close</th>\n",
       "      <th>Close</th>\n",
       "      <th>High</th>\n",
       "      <th>Low</th>\n",
       "      <th>Open</th>\n",
       "      <th>Volume</th>\n",
       "    </tr>\n",
       "    <tr>\n",
       "      <th>Ticker</th>\n",
       "      <th>Tsla</th>\n",
       "      <th>Tsla</th>\n",
       "      <th>Tsla</th>\n",
       "      <th>Tsla</th>\n",
       "      <th>Tsla</th>\n",
       "      <th>Tsla</th>\n",
       "    </tr>\n",
       "    <tr>\n",
       "      <th>Date</th>\n",
       "      <th></th>\n",
       "      <th></th>\n",
       "      <th></th>\n",
       "      <th></th>\n",
       "      <th></th>\n",
       "      <th></th>\n",
       "    </tr>\n",
       "  </thead>\n",
       "  <tbody>\n",
       "    <tr>\n",
       "      <th>2023-01-03</th>\n",
       "      <td>108.099998</td>\n",
       "      <td>108.099998</td>\n",
       "      <td>118.800003</td>\n",
       "      <td>104.639999</td>\n",
       "      <td>118.470001</td>\n",
       "      <td>231402800</td>\n",
       "    </tr>\n",
       "    <tr>\n",
       "      <th>2023-01-04</th>\n",
       "      <td>113.639999</td>\n",
       "      <td>113.639999</td>\n",
       "      <td>114.589996</td>\n",
       "      <td>107.519997</td>\n",
       "      <td>109.110001</td>\n",
       "      <td>180389000</td>\n",
       "    </tr>\n",
       "    <tr>\n",
       "      <th>2023-01-05</th>\n",
       "      <td>110.339996</td>\n",
       "      <td>110.339996</td>\n",
       "      <td>111.750000</td>\n",
       "      <td>107.160004</td>\n",
       "      <td>110.510002</td>\n",
       "      <td>157986300</td>\n",
       "    </tr>\n",
       "    <tr>\n",
       "      <th>2023-01-06</th>\n",
       "      <td>113.059998</td>\n",
       "      <td>113.059998</td>\n",
       "      <td>114.389999</td>\n",
       "      <td>101.809998</td>\n",
       "      <td>103.000000</td>\n",
       "      <td>220911100</td>\n",
       "    </tr>\n",
       "    <tr>\n",
       "      <th>2023-01-09</th>\n",
       "      <td>119.769997</td>\n",
       "      <td>119.769997</td>\n",
       "      <td>123.519997</td>\n",
       "      <td>117.110001</td>\n",
       "      <td>118.959999</td>\n",
       "      <td>190284000</td>\n",
       "    </tr>\n",
       "  </tbody>\n",
       "</table>\n",
       "</div>"
      ],
      "text/plain": [
       "Price        Adj Close       Close        High         Low        Open  \\\n",
       "Ticker            Tsla        Tsla        Tsla        Tsla        Tsla   \n",
       "Date                                                                     \n",
       "2023-01-03  108.099998  108.099998  118.800003  104.639999  118.470001   \n",
       "2023-01-04  113.639999  113.639999  114.589996  107.519997  109.110001   \n",
       "2023-01-05  110.339996  110.339996  111.750000  107.160004  110.510002   \n",
       "2023-01-06  113.059998  113.059998  114.389999  101.809998  103.000000   \n",
       "2023-01-09  119.769997  119.769997  123.519997  117.110001  118.959999   \n",
       "\n",
       "Price          Volume  \n",
       "Ticker           Tsla  \n",
       "Date                   \n",
       "2023-01-03  231402800  \n",
       "2023-01-04  180389000  \n",
       "2023-01-05  157986300  \n",
       "2023-01-06  220911100  \n",
       "2023-01-09  190284000  "
      ]
     },
     "execution_count": 3,
     "metadata": {},
     "output_type": "execute_result"
    }
   ],
   "source": [
    "data.head()\n"
   ]
  },
  {
   "cell_type": "code",
   "execution_count": 4,
   "id": "d37511cf",
   "metadata": {},
   "outputs": [
    {
     "data": {
      "text/plain": [
       "Price      Ticker\n",
       "Adj Close  Tsla      0\n",
       "Close      Tsla      0\n",
       "High       Tsla      0\n",
       "Low        Tsla      0\n",
       "Open       Tsla      0\n",
       "Volume     Tsla      0\n",
       "dtype: int64"
      ]
     },
     "execution_count": 4,
     "metadata": {},
     "output_type": "execute_result"
    }
   ],
   "source": [
    "data.isna().sum()\n"
   ]
  },
  {
   "cell_type": "code",
   "execution_count": 5,
   "id": "d776853c",
   "metadata": {},
   "outputs": [
    {
     "data": {
      "text/plain": [
       "Price      Ticker\n",
       "Adj Close  Tsla      0.0\n",
       "Close      Tsla      0.0\n",
       "High       Tsla      0.0\n",
       "Low        Tsla      0.0\n",
       "Open       Tsla      0.0\n",
       "Volume     Tsla      0.0\n",
       "dtype: float64"
      ]
     },
     "execution_count": 5,
     "metadata": {},
     "output_type": "execute_result"
    }
   ],
   "source": [
    "(data.isna().mean()*100).round(2)"
   ]
  },
  {
   "cell_type": "code",
   "execution_count": 6,
   "id": "ceb81f29",
   "metadata": {},
   "outputs": [],
   "source": [
    "data[\"oc_diff\"]=data[\"Close\"]-data[\"Open\"]\n",
    "data[\"hl_range\"]= data[\"High\"] - data [\"Low\"]\n",
    "data[\"vol_chg_pct\"]= data[\"Volume\"].pct_change()\n",
    "#Polynomial feature\n",
    "data[\"hl_range_sq\"] = data[\"hl_range\"]**2"
   ]
  },
  {
   "cell_type": "code",
   "execution_count": 7,
   "id": "cfaadd5a",
   "metadata": {},
   "outputs": [
    {
     "data": {
      "text/html": [
       "<div>\n",
       "<style scoped>\n",
       "    .dataframe tbody tr th:only-of-type {\n",
       "        vertical-align: middle;\n",
       "    }\n",
       "\n",
       "    .dataframe tbody tr th {\n",
       "        vertical-align: top;\n",
       "    }\n",
       "\n",
       "    .dataframe thead tr th {\n",
       "        text-align: left;\n",
       "    }\n",
       "\n",
       "    .dataframe thead tr:last-of-type th {\n",
       "        text-align: right;\n",
       "    }\n",
       "</style>\n",
       "<table border=\"1\" class=\"dataframe\">\n",
       "  <thead>\n",
       "    <tr>\n",
       "      <th>Price</th>\n",
       "      <th>Adj Close</th>\n",
       "      <th>Close</th>\n",
       "      <th>High</th>\n",
       "      <th>Low</th>\n",
       "      <th>Open</th>\n",
       "      <th>Volume</th>\n",
       "      <th>oc_diff</th>\n",
       "      <th>hl_range</th>\n",
       "      <th>vol_chg_pct</th>\n",
       "      <th>hl_range_sq</th>\n",
       "    </tr>\n",
       "    <tr>\n",
       "      <th>Ticker</th>\n",
       "      <th>Tsla</th>\n",
       "      <th>Tsla</th>\n",
       "      <th>Tsla</th>\n",
       "      <th>Tsla</th>\n",
       "      <th>Tsla</th>\n",
       "      <th>Tsla</th>\n",
       "      <th></th>\n",
       "      <th></th>\n",
       "      <th></th>\n",
       "      <th></th>\n",
       "    </tr>\n",
       "    <tr>\n",
       "      <th>Date</th>\n",
       "      <th></th>\n",
       "      <th></th>\n",
       "      <th></th>\n",
       "      <th></th>\n",
       "      <th></th>\n",
       "      <th></th>\n",
       "      <th></th>\n",
       "      <th></th>\n",
       "      <th></th>\n",
       "      <th></th>\n",
       "    </tr>\n",
       "  </thead>\n",
       "  <tbody>\n",
       "    <tr>\n",
       "      <th>2023-01-03</th>\n",
       "      <td>108.099998</td>\n",
       "      <td>108.099998</td>\n",
       "      <td>118.800003</td>\n",
       "      <td>104.639999</td>\n",
       "      <td>118.470001</td>\n",
       "      <td>231402800</td>\n",
       "      <td>-10.370003</td>\n",
       "      <td>14.160004</td>\n",
       "      <td>NaN</td>\n",
       "      <td>200.505704</td>\n",
       "    </tr>\n",
       "    <tr>\n",
       "      <th>2023-01-04</th>\n",
       "      <td>113.639999</td>\n",
       "      <td>113.639999</td>\n",
       "      <td>114.589996</td>\n",
       "      <td>107.519997</td>\n",
       "      <td>109.110001</td>\n",
       "      <td>180389000</td>\n",
       "      <td>4.529999</td>\n",
       "      <td>7.070000</td>\n",
       "      <td>-0.220455</td>\n",
       "      <td>49.984896</td>\n",
       "    </tr>\n",
       "    <tr>\n",
       "      <th>2023-01-05</th>\n",
       "      <td>110.339996</td>\n",
       "      <td>110.339996</td>\n",
       "      <td>111.750000</td>\n",
       "      <td>107.160004</td>\n",
       "      <td>110.510002</td>\n",
       "      <td>157986300</td>\n",
       "      <td>-0.170006</td>\n",
       "      <td>4.589996</td>\n",
       "      <td>-0.124191</td>\n",
       "      <td>21.068066</td>\n",
       "    </tr>\n",
       "    <tr>\n",
       "      <th>2023-01-06</th>\n",
       "      <td>113.059998</td>\n",
       "      <td>113.059998</td>\n",
       "      <td>114.389999</td>\n",
       "      <td>101.809998</td>\n",
       "      <td>103.000000</td>\n",
       "      <td>220911100</td>\n",
       "      <td>10.059998</td>\n",
       "      <td>12.580002</td>\n",
       "      <td>0.398293</td>\n",
       "      <td>158.256446</td>\n",
       "    </tr>\n",
       "    <tr>\n",
       "      <th>2023-01-09</th>\n",
       "      <td>119.769997</td>\n",
       "      <td>119.769997</td>\n",
       "      <td>123.519997</td>\n",
       "      <td>117.110001</td>\n",
       "      <td>118.959999</td>\n",
       "      <td>190284000</td>\n",
       "      <td>0.809998</td>\n",
       "      <td>6.409996</td>\n",
       "      <td>-0.138640</td>\n",
       "      <td>41.088049</td>\n",
       "    </tr>\n",
       "  </tbody>\n",
       "</table>\n",
       "</div>"
      ],
      "text/plain": [
       "Price        Adj Close       Close        High         Low        Open  \\\n",
       "Ticker            Tsla        Tsla        Tsla        Tsla        Tsla   \n",
       "Date                                                                     \n",
       "2023-01-03  108.099998  108.099998  118.800003  104.639999  118.470001   \n",
       "2023-01-04  113.639999  113.639999  114.589996  107.519997  109.110001   \n",
       "2023-01-05  110.339996  110.339996  111.750000  107.160004  110.510002   \n",
       "2023-01-06  113.059998  113.059998  114.389999  101.809998  103.000000   \n",
       "2023-01-09  119.769997  119.769997  123.519997  117.110001  118.959999   \n",
       "\n",
       "Price          Volume    oc_diff   hl_range vol_chg_pct hl_range_sq  \n",
       "Ticker           Tsla                                                \n",
       "Date                                                                 \n",
       "2023-01-03  231402800 -10.370003  14.160004         NaN  200.505704  \n",
       "2023-01-04  180389000   4.529999   7.070000   -0.220455   49.984896  \n",
       "2023-01-05  157986300  -0.170006   4.589996   -0.124191   21.068066  \n",
       "2023-01-06  220911100  10.059998  12.580002    0.398293  158.256446  \n",
       "2023-01-09  190284000   0.809998   6.409996   -0.138640   41.088049  "
      ]
     },
     "execution_count": 7,
     "metadata": {},
     "output_type": "execute_result"
    }
   ],
   "source": [
    "data.head()\n"
   ]
  },
  {
   "cell_type": "code",
   "execution_count": 8,
   "id": "59117813",
   "metadata": {},
   "outputs": [],
   "source": [
    "data[\"y_next_close\"]=data[\"Close\"].shift(-1)"
   ]
  },
  {
   "cell_type": "code",
   "execution_count": 9,
   "id": "02a34444",
   "metadata": {},
   "outputs": [
    {
     "data": {
      "text/html": [
       "<div>\n",
       "<style scoped>\n",
       "    .dataframe tbody tr th:only-of-type {\n",
       "        vertical-align: middle;\n",
       "    }\n",
       "\n",
       "    .dataframe tbody tr th {\n",
       "        vertical-align: top;\n",
       "    }\n",
       "\n",
       "    .dataframe thead tr th {\n",
       "        text-align: left;\n",
       "    }\n",
       "\n",
       "    .dataframe thead tr:last-of-type th {\n",
       "        text-align: right;\n",
       "    }\n",
       "</style>\n",
       "<table border=\"1\" class=\"dataframe\">\n",
       "  <thead>\n",
       "    <tr>\n",
       "      <th>Price</th>\n",
       "      <th>Adj Close</th>\n",
       "      <th>Close</th>\n",
       "      <th>High</th>\n",
       "      <th>Low</th>\n",
       "      <th>Open</th>\n",
       "      <th>Volume</th>\n",
       "      <th>oc_diff</th>\n",
       "      <th>hl_range</th>\n",
       "      <th>vol_chg_pct</th>\n",
       "      <th>hl_range_sq</th>\n",
       "      <th>y_next_close</th>\n",
       "    </tr>\n",
       "    <tr>\n",
       "      <th>Ticker</th>\n",
       "      <th>Tsla</th>\n",
       "      <th>Tsla</th>\n",
       "      <th>Tsla</th>\n",
       "      <th>Tsla</th>\n",
       "      <th>Tsla</th>\n",
       "      <th>Tsla</th>\n",
       "      <th></th>\n",
       "      <th></th>\n",
       "      <th></th>\n",
       "      <th></th>\n",
       "      <th></th>\n",
       "    </tr>\n",
       "    <tr>\n",
       "      <th>Date</th>\n",
       "      <th></th>\n",
       "      <th></th>\n",
       "      <th></th>\n",
       "      <th></th>\n",
       "      <th></th>\n",
       "      <th></th>\n",
       "      <th></th>\n",
       "      <th></th>\n",
       "      <th></th>\n",
       "      <th></th>\n",
       "      <th></th>\n",
       "    </tr>\n",
       "  </thead>\n",
       "  <tbody>\n",
       "    <tr>\n",
       "      <th>2023-01-03</th>\n",
       "      <td>108.099998</td>\n",
       "      <td>108.099998</td>\n",
       "      <td>118.800003</td>\n",
       "      <td>104.639999</td>\n",
       "      <td>118.470001</td>\n",
       "      <td>231402800</td>\n",
       "      <td>-10.370003</td>\n",
       "      <td>14.160004</td>\n",
       "      <td>NaN</td>\n",
       "      <td>200.505704</td>\n",
       "      <td>113.639999</td>\n",
       "    </tr>\n",
       "    <tr>\n",
       "      <th>2023-01-04</th>\n",
       "      <td>113.639999</td>\n",
       "      <td>113.639999</td>\n",
       "      <td>114.589996</td>\n",
       "      <td>107.519997</td>\n",
       "      <td>109.110001</td>\n",
       "      <td>180389000</td>\n",
       "      <td>4.529999</td>\n",
       "      <td>7.070000</td>\n",
       "      <td>-0.220455</td>\n",
       "      <td>49.984896</td>\n",
       "      <td>110.339996</td>\n",
       "    </tr>\n",
       "    <tr>\n",
       "      <th>2023-01-05</th>\n",
       "      <td>110.339996</td>\n",
       "      <td>110.339996</td>\n",
       "      <td>111.750000</td>\n",
       "      <td>107.160004</td>\n",
       "      <td>110.510002</td>\n",
       "      <td>157986300</td>\n",
       "      <td>-0.170006</td>\n",
       "      <td>4.589996</td>\n",
       "      <td>-0.124191</td>\n",
       "      <td>21.068066</td>\n",
       "      <td>113.059998</td>\n",
       "    </tr>\n",
       "    <tr>\n",
       "      <th>2023-01-06</th>\n",
       "      <td>113.059998</td>\n",
       "      <td>113.059998</td>\n",
       "      <td>114.389999</td>\n",
       "      <td>101.809998</td>\n",
       "      <td>103.000000</td>\n",
       "      <td>220911100</td>\n",
       "      <td>10.059998</td>\n",
       "      <td>12.580002</td>\n",
       "      <td>0.398293</td>\n",
       "      <td>158.256446</td>\n",
       "      <td>119.769997</td>\n",
       "    </tr>\n",
       "    <tr>\n",
       "      <th>2023-01-09</th>\n",
       "      <td>119.769997</td>\n",
       "      <td>119.769997</td>\n",
       "      <td>123.519997</td>\n",
       "      <td>117.110001</td>\n",
       "      <td>118.959999</td>\n",
       "      <td>190284000</td>\n",
       "      <td>0.809998</td>\n",
       "      <td>6.409996</td>\n",
       "      <td>-0.138640</td>\n",
       "      <td>41.088049</td>\n",
       "      <td>118.849998</td>\n",
       "    </tr>\n",
       "  </tbody>\n",
       "</table>\n",
       "</div>"
      ],
      "text/plain": [
       "Price        Adj Close       Close        High         Low        Open  \\\n",
       "Ticker            Tsla        Tsla        Tsla        Tsla        Tsla   \n",
       "Date                                                                     \n",
       "2023-01-03  108.099998  108.099998  118.800003  104.639999  118.470001   \n",
       "2023-01-04  113.639999  113.639999  114.589996  107.519997  109.110001   \n",
       "2023-01-05  110.339996  110.339996  111.750000  107.160004  110.510002   \n",
       "2023-01-06  113.059998  113.059998  114.389999  101.809998  103.000000   \n",
       "2023-01-09  119.769997  119.769997  123.519997  117.110001  118.959999   \n",
       "\n",
       "Price          Volume    oc_diff   hl_range vol_chg_pct hl_range_sq  \\\n",
       "Ticker           Tsla                                                 \n",
       "Date                                                                  \n",
       "2023-01-03  231402800 -10.370003  14.160004         NaN  200.505704   \n",
       "2023-01-04  180389000   4.529999   7.070000   -0.220455   49.984896   \n",
       "2023-01-05  157986300  -0.170006   4.589996   -0.124191   21.068066   \n",
       "2023-01-06  220911100  10.059998  12.580002    0.398293  158.256446   \n",
       "2023-01-09  190284000   0.809998   6.409996   -0.138640   41.088049   \n",
       "\n",
       "Price      y_next_close  \n",
       "Ticker                   \n",
       "Date                     \n",
       "2023-01-03   113.639999  \n",
       "2023-01-04   110.339996  \n",
       "2023-01-05   113.059998  \n",
       "2023-01-06   119.769997  \n",
       "2023-01-09   118.849998  "
      ]
     },
     "execution_count": 9,
     "metadata": {},
     "output_type": "execute_result"
    }
   ],
   "source": [
    "data.head()\n"
   ]
  },
  {
   "cell_type": "code",
   "execution_count": 13,
   "id": "42ed80e5",
   "metadata": {},
   "outputs": [],
   "source": [
    "features=[\"oc_diff\",\"hl_range\",\"vol_chg_pct\",\"hl_range_sq\"]\n",
    "dfm = data[features + [\"y_next_close\",\"Close\"]].dropna().copy()\n"
   ]
  },
  {
   "cell_type": "code",
   "execution_count": 14,
   "id": "a64676b3",
   "metadata": {},
   "outputs": [],
   "source": [
    "dfm = dfm.sort_index()\n",
    "assert isinstance(dfm.index, pd.DatetimeIndex)"
   ]
  },
  {
   "cell_type": "code",
   "execution_count": 25,
   "id": "8d382954",
   "metadata": {},
   "outputs": [],
   "source": [
    "full23= dfm.loc[\"2023-01-01\":\"2023-12-31\"]\n",
    "jan24= dfm.loc[\"2024-01-01\":\"2024-01-31\"]\n"
   ]
  },
  {
   "cell_type": "code",
   "execution_count": 27,
   "id": "0d63de35",
   "metadata": {},
   "outputs": [],
   "source": [
    "split_idx = int(len(full23) * 0.80)\n",
    "train = full23.iloc[:split_idx]      \n",
    "valid = full23.iloc[split_idx:]"
   ]
  },
  {
   "cell_type": "code",
   "execution_count": 29,
   "id": "b423fa22",
   "metadata": {},
   "outputs": [],
   "source": [
    "X_tr, y_tr = train[features].values, train[\"y_next_close\"].values\n",
    "X_va, y_va = valid[features].values, valid[\"y_next_close\"].values"
   ]
  },
  {
   "cell_type": "code",
   "execution_count": 32,
   "id": "84eeca52",
   "metadata": {},
   "outputs": [],
   "source": [
    "X_24, y_24 = jan24[features].values, jan24[\"y_next_close\"].values\n"
   ]
  },
  {
   "cell_type": "code",
   "execution_count": 33,
   "id": "4fecdeeb",
   "metadata": {},
   "outputs": [
    {
     "name": "stdout",
     "output_type": "stream",
     "text": [
      "Linear 23-valid | R²= -2.1855892005423025  MSE= 876.9222834085523\n"
     ]
    }
   ],
   "source": [
    "lin = LinearRegression().fit(X_tr, y_tr)\n",
    "pred_va_lin = lin.predict(X_va)\n",
    "print(\"Linear 23-valid | R²=\", r2_score(y_va, pred_va_lin),\n",
    "      \" MSE=\", mean_squared_error(y_va, pred_va_lin))\n"
   ]
  },
  {
   "cell_type": "code",
   "execution_count": 35,
   "id": "3a14de63",
   "metadata": {},
   "outputs": [
    {
     "name": "stdout",
     "output_type": "stream",
     "text": [
      "Poly d2 23-valid | R²= -3.620107798611156  MSE= 1271.8135406982317\n"
     ]
    }
   ],
   "source": [
    "poly = Pipeline([\n",
    "    (\"sc\",   StandardScaler()),\n",
    "    (\"poly\", PolynomialFeatures(degree=2, include_bias=False)),\n",
    "    (\"lin\",  LinearRegression())\n",
    "]).fit(X_tr, y_tr)\n",
    "pred_va_poly = poly.predict(X_va)\n",
    "print(\"Poly d2 23-valid | R²=\", r2_score(y_va, pred_va_poly),\n",
    "      \" MSE=\", mean_squared_error(y_va, pred_va_poly))"
   ]
  },
  {
   "cell_type": "code",
   "execution_count": 36,
   "id": "045215a3",
   "metadata": {},
   "outputs": [
    {
     "name": "stdout",
     "output_type": "stream",
     "text": [
      "Jan-2024 | R²= -0.4521848193912441  MSE= 545.6289337538589\n"
     ]
    }
   ],
   "source": [
    "best = poly if r2_score(y_va, pred_va_poly) > r2_score(y_va, pred_va_lin) else lin\n",
    "\n",
    "best.fit(full23[features].values, full23[\"y_next_close\"].values)   # retrain on full 2023\n",
    "pred_24 = best.predict(X_24)\n",
    "\n",
    "print(\"Jan-2024 | R²=\", r2_score(y_24, pred_24),\n",
    "      \" MSE=\", mean_squared_error(y_24, pred_24))\n"
   ]
  }
 ],
 "metadata": {
  "kernelspec": {
   "display_name": "base",
   "language": "python",
   "name": "python3"
  },
  "language_info": {
   "codemirror_mode": {
    "name": "ipython",
    "version": 3
   },
   "file_extension": ".py",
   "mimetype": "text/x-python",
   "name": "python",
   "nbconvert_exporter": "python",
   "pygments_lexer": "ipython3",
   "version": "3.10.10"
  }
 },
 "nbformat": 4,
 "nbformat_minor": 5
}
